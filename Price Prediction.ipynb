{
 "cells": [
  {
   "cell_type": "markdown",
   "id": "54b5d8aa-070c-4b90-b530-7606149367af",
   "metadata": {},
   "source": [
    "# King County House Price Prediction Model"
   ]
  },
  {
   "cell_type": "markdown",
   "id": "cd25490f-107f-468d-8e54-e0f9c6a17a09",
   "metadata": {},
   "source": [
    "## Import Necessary Functions and Packages\n"
   ]
  },
  {
   "cell_type": "code",
   "execution_count": 69,
   "id": "1e7f221f-60cb-45d7-9991-700f6a5ea6d0",
   "metadata": {},
   "outputs": [],
   "source": [
    "import numpy as np \n",
    "import pandas as pd\n",
    "import matplotlib.pyplot as plt\n",
    "import seaborn as sns\n",
    "%matplotlib inline\n",
    "\n",
    "import math\n",
    "import pylab\n",
    "import pickle\n",
    "import category_encoders as ce\n",
    "import statsmodels.api as sm\n",
    "from statsmodels.compat import lzip\n",
    "from statsmodels.graphics import tsaplots\n",
    "from statsmodels.stats import diagnostic as diag\n",
    "from statsmodels.stats.outliers_influence import variance_inflation_factor\n",
    "from sklearn.model_selection import train_test_split\n",
    "from sklearn.linear_model import LinearRegression\n",
    "from sklearn.metrics import mean_squared_error, r2_score, mean_absolute_error"
   ]
  },
  {
   "cell_type": "markdown",
   "id": "7ff90ac6-65de-47a0-854e-d1b6a2ae813d",
   "metadata": {},
   "source": [
    "## Feature Engineering and Data Transformation"
   ]
  },
  {
   "cell_type": "code",
   "execution_count": 70,
   "id": "eef8cc6f-b451-414d-a632-d5a4e85bec7d",
   "metadata": {},
   "outputs": [],
   "source": [
    "# Visualization Functions\n",
    "def num_plots(df):\n",
    "    num_cols = list(c.select_dtypes(exclude=['object']).columns)\n",
    "    for col in b[cat_cols]:\n",
    "        print(col)\n",
    "\n",
    "def cat_plots(df):\n",
    "    cat_cols = list(c.select_dtypes(include=['object']).columns)\n",
    "    for col in b[cat_cols]:\n",
    "        print(col)\n",
    "\n",
    "def corr_plots(df):\n",
    "    corr_matrix = df.corr()\n",
    "    plt.figure(figsize=(20, 15))\n",
    "    sns.heatmap(corr_matrix, annot=True, cmap='viridis')\n",
    "    plt.title('Correlation Matrix of Features')\n",
    "    plt.show()\n",
    "\n",
    "def corr_table(df):\n",
    "    corr = df.corr()\n",
    "    display(corr)"
   ]
  },
  {
   "cell_type": "code",
   "execution_count": 71,
   "id": "54aa4b65-ec57-4c3a-a6f3-671971a80f19",
   "metadata": {},
   "outputs": [],
   "source": [
    "# Data Importing and Wrangling Functions\n",
    "def file_reader(path):\n",
    "    '''This function extracts the contents of a csv file, loads it into a pandas dataframe and then returns the top 10 columns of the dataframe. \n",
    "    Input : CSV filepath\n",
    "    Output: DataFrame'''\n",
    "    \n",
    "    # Import Dataframe from Filepath\n",
    "    data = pd.read_csv(path, na_values=[\"nan\",\"n.a\",\"not available\",\"?\",\"NaN\"])\n",
    "    \n",
    "    # Return Imported Pandas DataFrame\n",
    "    return data\n",
    "\n",
    "def feature_wrangler(df):\n",
    "    '''This function examines the columns of the House Prices DataFrame, performs some feature enginnering on the columns and and then returns the cleaned dataframe, returning the top 10 columns of the cleaned dataframe. \n",
    "    Input : Uncleaned DataFrame\n",
    "    Output: Cleaned DataFrame'''\n",
    "\n",
    "    # Set the Index to the id Column and Drop the id Column\n",
    "    df.index = df['id']\n",
    "    df = df.drop(columns = ['id', 'date', 'lat', 'long'], axis = 1)\n",
    "\n",
    "    # Replace Missing Values in Dataset According to Datatypes (Mode for Categories. Mean for Continuous)\n",
    "    for col in df.columns:\n",
    "        if df[col].isnull().sum() > 0:\n",
    "            if df[col].nunique() > 10:\n",
    "                df[col] = df[col].fillna(df[col].mean())\n",
    "            else:\n",
    "                df[col] = df[col].fillna(df[col].mode()[0])\n",
    "    \n",
    "    # Set Datatypes For Categorical Features\n",
    "    df['condition'] = df['condition'].astype(object)\n",
    "    df['grade'] = df['grade'].astype(object)\n",
    "    df['zipcode'] = df['zipcode'].astype(object)\n",
    "    df['waterfront'] = df['waterfront'].astype(object)\n",
    "\n",
    "    # Return Cleaned Dataset\n",
    "    return df\n",
    "\n",
    "def outlier_remover(df):\n",
    "    '''\n",
    "    This function filters out all values above and below three standard deviations from the mean\n",
    "    '''\n",
    "    for col in df.columns:\n",
    "        if df[col].dtype in ['int64', 'float64']:\n",
    "            if col not in ['lat', 'long']:\n",
    "                mean = df[col].mean()\n",
    "                std = df[col].std()\n",
    "                df = df[(df[col] > df[col].mean() - 3 * df[col].std()) & (df[col] < df[col].mean() + 3 * df[col].std())]\n",
    "                \n",
    "    # Return Dataset With Outliers Removed       \n",
    "    return df\n",
    "\n",
    "def cat_encoder(df):\n",
    "    # Instantiate Target Encoder\n",
    "    te=ce.TargetEncoder()\n",
    "\n",
    "    # Extract the Categorical Columns\n",
    "    cat_cols = list(df.select_dtypes(include=['object']).columns)\n",
    "    \n",
    "    # Target-Encode the Categorical Features \n",
    "    for col in cat_cols:\n",
    "        df[col]=te.fit_transform(df[col],df.price)\n",
    "\n",
    "    # Return Dataset With Categorical Features Transformed \n",
    "    return df\n",
    "\n",
    "def vif_screener(df):\n",
    "    # Branch Out Dataframe into 2 Dataframes to Examine the VIF Before and After Highly Correlated Columns are Dropped\n",
    "    d_before = df\n",
    "    d_after = df\n",
    "\n",
    "    # VIF Before Dropping Columns\n",
    "    before_dropping = sm.tools.add_constant(d_before)\n",
    "    series_before = pd.Series([variance_inflation_factor(before_dropping.values, i) for i in range(before_dropping.shape[1])], index = before_dropping.columns)\n",
    "    \n",
    "    # Display the series\n",
    "    print('VIF BEFORE DROPPING HIGHLY CORRELATED COLUMNS COLUMNS')\n",
    "    print('-'*55)\n",
    "    display(series_before)\n",
    "    \n",
    "    # Define Columns to Drop based on VIF Threshold\n",
    "    high_vif = series_before[series_before > 5]\n",
    "    high_vif = high_vif.index.to_list()\n",
    "    high_vif.remove('const')\n",
    "    high_vif\n",
    "\n",
    "    # VIF After Dropping Columns\n",
    "    d_after = d_after.drop(columns = high_vif)\n",
    "    after_dropping = sm.tools.add_constant(d_after)\n",
    "    series_after = pd.Series([variance_inflation_factor(after_dropping.values, i) for i in range(after_dropping.shape[1])], index = after_dropping.columns)\n",
    "    \n",
    "    # Display the series\n",
    "    print('VIF AFTER DROPPING HIGHLY CORRELATED COLUMNS COLUMNS')\n",
    "    print('-'*55)\n",
    "    display(series_after)\n",
    "\n",
    "    # Collect Columns into New List and Create New Dataframe \n",
    "    final_columns = series_after.index.to_list()\n",
    "    final_columns.remove('const')\n",
    "    final_columns \n",
    "    \n",
    "    df = df[final_columns]\n",
    "    \n",
    "    return df"
   ]
  },
  {
   "cell_type": "code",
   "execution_count": null,
   "id": "223fdc1d-b71a-48d0-b1f7-cd460594cda1",
   "metadata": {},
   "outputs": [],
   "source": [
    "a = file_reader('https://raw.githubusercontent.com/Amberlynnyandow/dsc-1-final-project-online-ds-ft-021119/master/kc_house_data.csv')\n",
    "b = feature_wrangler(a)\n",
    "c = outlier_remover(b)\n",
    "d = cat_encoder(c)\n",
    "e = vif_screener(d)"
   ]
  },
  {
   "cell_type": "markdown",
   "id": "47305637-b196-41ee-934f-161d7b1d7d40",
   "metadata": {},
   "source": [
    "## Data Split and Model Building"
   ]
  },
  {
   "cell_type": "code",
   "execution_count": 73,
   "id": "4bf485d5-72d6-4233-8507-8300e17c9dae",
   "metadata": {},
   "outputs": [
    {
     "data": {
      "text/plain": [
       "array([[ 404030.07864595],\n",
       "       [1023283.38799492],\n",
       "       [ 338627.46022273],\n",
       "       [ 422954.17541351],\n",
       "       [ 331963.05875397]])"
      ]
     },
     "execution_count": 73,
     "metadata": {},
     "output_type": "execute_result"
    }
   ],
   "source": [
    "# Get the Target and Feature variables\n",
    "X = e.drop('price', axis = 1)\n",
    "y = e[['price']]\n",
    "\n",
    "# Split the dataset to training and testing dataset\n",
    "X_train, X_test, y_train, y_test = train_test_split(X, y, test_size = 0.20, random_state = 420)\n",
    "\n",
    "# Create an instance for our model\n",
    "regression_model = LinearRegression()\n",
    "\n",
    "# Fit the model\n",
    "regression_model.fit(X_train, y_train)\n",
    "\n",
    "# Get the Price Prediction on the Test Data\n",
    "y_predict = regression_model.predict(X_test)\n",
    "\n",
    "# Show the first 5 Predictions\n",
    "y_predict[:5]"
   ]
  },
  {
   "cell_type": "markdown",
   "id": "b960b1e5-1c10-4aa1-8462-056672d11198",
   "metadata": {},
   "source": [
    "## Model Performance Check"
   ]
  },
  {
   "cell_type": "code",
   "execution_count": 74,
   "id": "6bdb648d-5ead-4f9b-ac65-880c2509f8a1",
   "metadata": {},
   "outputs": [
    {
     "name": "stdout",
     "output_type": "stream",
     "text": [
      "MSE : 1.08e+10\n",
      "MAE : 7.35e+04\n",
      "RMSE : 1.04e+05\n"
     ]
    }
   ],
   "source": [
    "# Model Performance Metrics\n",
    "# Calculate the mean squared error\n",
    "model_mse = mean_squared_error(y_test, y_predict)\n",
    "\n",
    "# Calculate the mean absolute error\n",
    "model_mae = mean_absolute_error(y_test, y_predict)\n",
    "\n",
    "# Calculate the root mean squared error\n",
    "model_rmse = math.sqrt(model_mse)\n",
    "\n",
    "# Display the output\n",
    "print(f\"MSE : {model_mse:.3}\")\n",
    "print(f\"MAE : {model_mae:.3}\")\n",
    "print(f\"RMSE : {model_rmse:.3}\")"
   ]
  },
  {
   "cell_type": "markdown",
   "id": "f3cd2bc9-2175-4040-b73d-76f0c1560cf3",
   "metadata": {},
   "source": [
    "## Model Results and Hypothesis Testing"
   ]
  },
  {
   "cell_type": "code",
   "execution_count": 75,
   "id": "17ae8abd-67fb-42ad-be82-73d15e1d9f4e",
   "metadata": {},
   "outputs": [
    {
     "name": "stdout",
     "output_type": "stream",
     "text": [
      "                            OLS Regression Results                            \n",
      "==============================================================================\n",
      "Dep. Variable:                  price   R-squared:                       0.771\n",
      "Model:                            OLS   Adj. R-squared:                  0.770\n",
      "Method:                 Least Squares   F-statistic:                     4802.\n",
      "Date:                Wed, 19 Jun 2024   Prob (F-statistic):               0.00\n",
      "Time:                        20:14:48   Log-Likelihood:            -2.4190e+05\n",
      "No. Observations:               18603   AIC:                         4.838e+05\n",
      "Df Residuals:                   18589   BIC:                         4.839e+05\n",
      "Df Model:                          13                                         \n",
      "Covariance Type:            nonrobust                                         \n",
      "=================================================================================\n",
      "                    coef    std err          t      P>|t|      [0.025      0.975]\n",
      "---------------------------------------------------------------------------------\n",
      "const          1.252e+06   4.46e+05      2.807      0.005    3.78e+05    2.13e+06\n",
      "bedrooms       1.799e+04   1114.469     16.140      0.000    1.58e+04    2.02e+04\n",
      "bathrooms      5.347e+04   1826.927     29.267      0.000    4.99e+04    5.71e+04\n",
      "sqft_lot          1.2244      0.138      8.891      0.000       0.954       1.494\n",
      "floors         1.154e+04   1911.227      6.039      0.000    7795.214    1.53e+04\n",
      "waterfront        3.1670      0.930      3.405      0.001       1.344       4.990\n",
      "view           4.298e+04   2050.183     20.963      0.000     3.9e+04     4.7e+04\n",
      "condition         0.4741      0.035     13.510      0.000       0.405       0.543\n",
      "grade             0.5664      0.009     64.941      0.000       0.549       0.584\n",
      "yr_built      -1711.4635     38.081    -44.943      0.000   -1786.105   -1636.822\n",
      "yr_renovated     45.1918     24.330      1.857      0.063      -2.497      92.881\n",
      "zipcode           0.7343      0.005    135.105      0.000       0.724       0.745\n",
      "sqft_living15    38.5956      2.047     18.852      0.000      34.583      42.608\n",
      "sqft_lot15       -1.5137      0.194     -7.818      0.000      -1.893      -1.134\n",
      "==============================================================================\n",
      "Omnibus:                     5311.779   Durbin-Watson:                   1.980\n",
      "Prob(Omnibus):                  0.000   Jarque-Bera (JB):            31724.349\n",
      "Skew:                           1.239   Prob(JB):                         0.00\n",
      "Kurtosis:                       8.898   Cond. No.                     5.40e+08\n",
      "==============================================================================\n",
      "\n",
      "Notes:\n",
      "[1] Standard Errors assume that the covariance matrix of the errors is correctly specified.\n",
      "[2] The condition number is large, 5.4e+08. This might indicate that there are\n",
      "strong multicollinearity or other numerical problems.\n"
     ]
    }
   ],
   "source": [
    "# Create the input\n",
    "X_model = sm.add_constant(X)\n",
    "\n",
    "# Create an OLS model\n",
    "model = sm.OLS(y, X_model)\n",
    "\n",
    "# Fit the model\n",
    "est = model.fit()\n",
    "\n",
    "# SHow Model Summary\n",
    "print(est.summary())"
   ]
  },
  {
   "cell_type": "markdown",
   "id": "29657ea3-4f2a-4d8e-95bb-a4e88ceb0f20",
   "metadata": {},
   "source": [
    "## Model Diagnostics Check"
   ]
  },
  {
   "cell_type": "markdown",
   "id": "2b056f97-74e3-4d9b-baaa-da8aac76ec19",
   "metadata": {},
   "source": [
    "### Autocorrelation Check\n",
    "The autocorrelation function is used to check for the presence of autocorrelation. The ACF plot clearly shows that the model does not suffer from \r\n",
    "autocorrelation in its residuals as every lag beyond the first lag is very close to zero."
   ]
  },
  {
   "cell_type": "code",
   "execution_count": 76,
   "id": "d7d9f013-bbc3-4ac1-83fd-517de747b3ce",
   "metadata": {},
   "outputs": [
    {
     "data": {
      "image/png": "[encoded data removed]",
      "text/plain": [
       "<Figure size 640x480 with 1 Axes>"
      ]
     },
     "metadata": {},
     "output_type": "display_data"
    }
   ],
   "source": [
    "# Plot Model Residual Autocorrelation Function\n",
    "fig = tsaplots.plot_acf(est.resid, lags=10)\n",
    "plt.ylim([0.00,1.00])\n",
    "plt.title('Autocorrelation Function Plot of Model Residuals')\n",
    "plt.show();"
   ]
  },
  {
   "cell_type": "markdown",
   "id": "4f3607bd-1c25-4fa7-9234-c4c364dd7c8d",
   "metadata": {},
   "source": [
    "### Heteroskedasticity check\n",
    "The Lagrange multiplier statistic for the test is 6.0039 and the corresponding p-value is 0.1114. Because this p-value is not less than 0.05, we fail to reject the null hypothesis. Consequently, We do not have sufficient evidence to say that heteroscedasticity is present in the regression model."
   ]
  },
  {
   "cell_type": "code",
   "execution_count": 77,
   "id": "497ff41d-1999-4086-a182-290da9f8b37d",
   "metadata": {},
   "outputs": [
    {
     "data": {
      "text/plain": [
       "[('Lagrange multiplier statistic', 6.003951995818433),\n",
       " ('p-value', 0.11141811013399583),\n",
       " ('f-value', 3.004944880309618),\n",
       " ('f p-value', 0.11663863538255281)]"
      ]
     },
     "execution_count": 77,
     "metadata": {},
     "output_type": "execute_result"
    }
   ],
   "source": [
    "# Perform Bresuch-Pagan test\n",
    "labels = ['Lagrange multiplier statistic', 'p-value',\n",
    "        'f-value', 'f (p-value)']\n",
    "test = diag.het_breuschpagan(est.resid, est.model.exog)\n",
    "\n",
    "lzip(labels, test)\n",
    "\n",
    "[('Lagrange multiplier statistic', 6.003951995818433),\n",
    " ('p-value', 0.11141811013399583),\n",
    " ('f-value', 3.004944880309618),\n",
    " ('f p-value', 0.11663863538255281)]"
   ]
  },
  {
   "cell_type": "markdown",
   "id": "d67929a9-3bb5-4730-8b5d-50487e26ed84",
   "metadata": {},
   "source": [
    "### Normality Check\n",
    "The model QQ-Plot follows the diagonal line in the plot and mean of residuals are very close to zero, indicating that the\r\n",
    "model errors are normally distributed. "
   ]
  },
  {
   "cell_type": "code",
   "execution_count": 78,
   "id": "90e02efd-e006-4cd7-a784-308d94aa988a",
   "metadata": {},
   "outputs": [
    {
     "data": {
      "image/png": "[encoded data removed]",
      "text/plain": [
       "<Figure size 640x480 with 1 Axes>"
      ]
     },
     "metadata": {},
     "output_type": "display_data"
    },
    {
     "data": {
      "text/plain": [
       "-7.906808727800094e-06"
      ]
     },
     "execution_count": 78,
     "metadata": {},
     "output_type": "execute_result"
    }
   ],
   "source": [
    "# Check for the normality\n",
    "sm.qqplot(est.resid, line = 's')\n",
    "pylab.show()\n",
    "\n",
    "# Check that the mean of the residual = 0\n",
    "mean_residuals = sum(est.resid) / len(est.resid)\n",
    "mean_residuals"
   ]
  },
  {
   "cell_type": "markdown",
   "id": "f7c45e12-3e18-4be2-870a-08f2f28ec9ea",
   "metadata": {},
   "source": [
    "## Save Price Prediction Model"
   ]
  },
  {
   "cell_type": "code",
   "execution_count": null,
   "id": "eb8a0e6f-7032-4ade-b307-2bdb0740d128",
   "metadata": {},
   "outputs": [],
   "source": [
    "# Pickle the Model\n",
    "with open('king-county-model.pkl', 'wb') as f:\n",
    "    pickle.dump(regression_model, f)\n",
    "    \n",
    "# Load it back in\n",
    "with open('king-county-model.pkl', 'rb') as pickle_file:\n",
    "    regression_model_2 = pickle.load(pickle_file)"
   ]
  }
 ],
 "metadata": {
  "kernelspec": {
   "display_name": "Python 3 (ipykernel)",
   "language": "python",
   "name": "python3"
  },
  "language_info": {
   "codemirror_mode": {
    "name": "ipython",
    "version": 3
   },
   "file_extension": ".py",
   "mimetype": "text/x-python",
   "name": "python",
   "nbconvert_exporter": "python",
   "pygments_lexer": "ipython3",
   "version": "3.11.8"
  }
 },
 "nbformat": 4,
 "nbformat_minor": 5
}
